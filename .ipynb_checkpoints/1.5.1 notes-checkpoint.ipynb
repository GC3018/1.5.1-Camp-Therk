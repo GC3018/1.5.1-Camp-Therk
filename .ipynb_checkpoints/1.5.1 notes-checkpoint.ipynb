{
 "cells": [
  {
   "cell_type": "code",
   "execution_count": null,
   "metadata": {},
   "outputs": [],
   "source": [
    "#Structure: The interface should be organized, putting related elements together.\n",
    "\n",
    "#Simple: Common tasks should be easy.\n",
    "\n",
    "#Visible: Information and options should be easy to find, without the distraction of unnecessary information.\n",
    "\n",
    "#Feedback: User should be informed of actions, changes in state, and errors.\n",
    "\n",
    "#Tolerance: Mistakes should be easy to undo, and reasonable input should be interpreted.\n",
    "\n",
    "#Reuse: Design should be consistent across components."
   ]
  }
 ],
 "metadata": {
  "kernelspec": {
   "display_name": "Python 3",
   "language": "python",
   "name": "python3"
  },
  "language_info": {
   "codemirror_mode": {
    "name": "ipython",
    "version": 3
   },
   "file_extension": ".py",
   "mimetype": "text/x-python",
   "name": "python",
   "nbconvert_exporter": "python",
   "pygments_lexer": "ipython3",
   "version": "3.7.4"
  }
 },
 "nbformat": 4,
 "nbformat_minor": 2
}
